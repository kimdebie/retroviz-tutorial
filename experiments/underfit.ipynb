{
 "cells": [
  {
   "cell_type": "markdown",
   "metadata": {},
   "source": [
    "# Underfit\n",
    "\n",
    "Evaluation of RETRO performance for predictions from underfit models."
   ]
  },
  {
   "cell_type": "markdown",
   "metadata": {},
   "source": [
    "### Preliminaries"
   ]
  },
  {
   "cell_type": "code",
   "execution_count": null,
   "metadata": {},
   "outputs": [],
   "source": [
    "# stopping sklearn warnings\n",
    "def warn(*args, **kwargs):\n",
    "    pass\n",
    "\n",
    "import warnings\n",
    "warnings.warn = warn"
   ]
  },
  {
   "cell_type": "code",
   "execution_count": null,
   "metadata": {},
   "outputs": [],
   "source": [
    "import sys\n",
    "sys.path.append('../')\n",
    "\n",
    "import sklearn as sk\n",
    "import matplotlib.pyplot as plt\n",
    "import numpy as np\n",
    "\n",
    "from math import sqrt\n",
    "\n",
    "%matplotlib inline\n",
    "\n",
    "from sklearn.tree import DecisionTreeRegressor\n",
    "from sklearn.neural_network import MLPRegressor\n",
    "\n",
    "from sklearn.metrics import mean_squared_error, r2_score\n",
    "\n",
    "from src.load_data import DataLoader\n",
    "from src.retro_score import RetroScore, run_retro_score\n",
    "from src.evaluation import rs_at_threshold_plot, overlapping_points\n",
    "from src.dimensionality_reduction import get_activations\n",
    "\n",
    "np.random.seed(42)"
   ]
  },
  {
   "cell_type": "markdown",
   "metadata": {},
   "source": [
    "### Load data"
   ]
  },
  {
   "cell_type": "code",
   "execution_count": null,
   "metadata": {},
   "outputs": [],
   "source": [
    "data = DataLoader()\n",
    "\n",
    "# select one dataset (comment others out)\n",
    "data.cyclepower()\n",
    "#data.airfoil()\n",
    "#data.toxicfish()\n",
    "#data.abalone()\n",
    "#data.autompg2()\n",
    "#data.california_housing()\n",
    "#data.energyefficiency()\n",
    "#data.diabetes()\n",
    "#data.winequality2()\n",
    "#data.boston()\n",
    "#data.superconductor()\n",
    "#data.communities()\n",
    "\n",
    "# randomize the order of the data\n",
    "data.randomize_order()\n",
    "\n",
    "# split into train and test\n",
    "data.split_train_test(test_size=0.2, random=False)\n",
    "\n",
    "# scale features\n",
    "data.scale_min_max(-1,1)\n",
    "\n",
    "X_train, X_test, y_train, y_test = data.get_split_data()"
   ]
  },
  {
   "cell_type": "code",
   "execution_count": null,
   "metadata": {},
   "outputs": [],
   "source": [
    "# choose one regression model (comment others out)\n",
    "#reg = MLPRegressor(hidden_layer_sizes=(10),max_iter=3).fit(X_train, y_train)\n",
    "reg = DecisionTreeRegressor(max_depth=1).fit(X_train, y_train)\n",
    "\n",
    "# obtain predictions on train and test set\n",
    "y_pred = reg.predict(X_test).reshape(-1,1)\n",
    "y_train_pred = reg.predict(X_train).reshape(-1,1)\n",
    "\n",
    "# show performance on train and test set\n",
    "print(f\"{sqrt(mean_squared_error(y_test, y_pred))} - RMSE test\")\n",
    "print(f\"{r2_score(y_test, y_pred)} - r2 test\")\n",
    "print()\n",
    "print(f\"{sqrt(mean_squared_error(y_train, y_train_pred))} - RMSE train\")\n",
    "print(f\"{r2_score(y_train, y_train_pred)} - r2 train\")"
   ]
  },
  {
   "cell_type": "markdown",
   "metadata": {},
   "source": [
    "### Calculating the RETRO scores"
   ]
  },
  {
   "cell_type": "markdown",
   "metadata": {},
   "source": [
    "#### Without reduced dimensionality\n",
    "For all except the largest datasets (communities and superconductor), we calculate the RETRO score without reducing the dimensionality of the data first."
   ]
  },
  {
   "cell_type": "code",
   "execution_count": null,
   "metadata": {},
   "outputs": [],
   "source": [
    "# calculate RETRO score (without reducing dimensionality)\n",
    "rs = RetroScore(k=5)\n",
    "retro_score, unnormalized_score, nbs_x, nbs_y = run_retro_score(rs, X_train, y_train, X_test, y_pred, y_train_pred)"
   ]
  },
  {
   "cell_type": "markdown",
   "metadata": {},
   "source": [
    "#### With reducing dimensionality\n",
    "\n",
    "For larger datasets (superconductor and communities), we reduce the dimensionality of the data before applying the RETRO score. Only run the cell below if this applies."
   ]
  },
  {
   "cell_type": "code",
   "execution_count": null,
   "metadata": {},
   "outputs": [],
   "source": [
    "# reduce dimensionality (for superconductor and communities only)\n",
    "dimreducer = MLPRegressor(hidden_layer_sizes=(500,20,10),max_iter=100).fit(X_train, y_train)\n",
    "X_train_ll = get_activations(dimreducer, X_train)[-2]\n",
    "X_test_ll = get_activations(dimreducer, X_test)[-2]\n",
    "\n",
    "# calculate RETRO score with reduced dimensionality\n",
    "rs = RetroScore(k=5)\n",
    "retro_score, unnormalized_score, nbs_x, nbs_y = run_retro_score(rs, X_train_ll, y_train, X_test_ll, y_pred, y_train_pred)"
   ]
  },
  {
   "cell_type": "markdown",
   "metadata": {},
   "source": [
    "### Evaluation"
   ]
  },
  {
   "cell_type": "code",
   "execution_count": null,
   "metadata": {},
   "outputs": [],
   "source": [
    "# plot error vs. RS and Pearson correlation coefficient\n",
    "rs_at_threshold_plot(unnormalized_score, y_test, y_pred, normalized=False)"
   ]
  },
  {
   "cell_type": "code",
   "execution_count": null,
   "metadata": {},
   "outputs": [],
   "source": [
    "# fraction of overlapping points between top 50% highest errors and top 50% lowest RETRO-scores (1 is best)\n",
    "errors = abs(y_test-y_pred.reshape(-1))\n",
    "overlap = overlapping_points(unnormalized_score, errors, frac=50)\n",
    "overlap"
   ]
  }
 ],
 "metadata": {
  "kernelspec": {
   "display_name": "Python 3",
   "language": "python",
   "name": "python3"
  },
  "language_info": {
   "codemirror_mode": {
    "name": "ipython",
    "version": 3
   },
   "file_extension": ".py",
   "mimetype": "text/x-python",
   "name": "python",
   "nbconvert_exporter": "python",
   "pygments_lexer": "ipython3",
   "version": "3.7.4"
  }
 },
 "nbformat": 4,
 "nbformat_minor": 2
}
