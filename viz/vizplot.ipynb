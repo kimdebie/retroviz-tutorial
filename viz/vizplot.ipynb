{
 "cells": [
  {
   "cell_type": "markdown",
   "metadata": {},
   "source": [
    "# Creating .json objects for VIZ-plot\n",
    "\n",
    "This notebook shows you how to create a .json object that can be used for creating a VIZ-plot. Here, we use the Fish toxicity dataset and a Gaussian Process Regressor, but of course you can do this for any dataset and model."
   ]
  },
  {
   "cell_type": "code",
   "execution_count": null,
   "metadata": {},
   "outputs": [],
   "source": [
    "# stopping sklearn warnings\n",
    "def warn(*args, **kwargs):\n",
    "    pass\n",
    "\n",
    "import warnings\n",
    "warnings.warn = warn"
   ]
  },
  {
   "cell_type": "code",
   "execution_count": null,
   "metadata": {},
   "outputs": [],
   "source": [
    "import sys\n",
    "sys.path.append('../')\n",
    "\n",
    "import sklearn as sk\n",
    "import matplotlib.pyplot as plt\n",
    "import numpy as np\n",
    "\n",
    "import json\n",
    "\n",
    "from math import sqrt\n",
    "\n",
    "%matplotlib inline\n",
    "\n",
    "from sklearn.gaussian_process import GaussianProcessRegressor\n",
    "\n",
    "from sklearn.metrics import mean_squared_error, r2_score\n",
    "\n",
    "from src.load_data import DataLoader\n",
    "from src.retro_score import RetroScore, run_retro_score\n",
    "from src.evaluation import rs_at_threshold_plot, overlapping_points\n",
    "from src.dimensionality_reduction import get_activations\n",
    "from src.visualization import sample_new_point, get_range, sort_axes, make_dict_df#, dim_reduction, pickle_dict, take_sample\n",
    "\n",
    "np.random.seed(42)\n",
    "\n",
    "#from train_model import get_data, train_reg_model\n",
    "#from select_data import select_features, get_points_by_index"
   ]
  },
  {
   "cell_type": "markdown",
   "metadata": {},
   "source": [
    "### Load data"
   ]
  },
  {
   "cell_type": "code",
   "execution_count": null,
   "metadata": {},
   "outputs": [],
   "source": [
    "data = DataLoader()\n",
    "\n",
    "# select one dataset (comment others out)\n",
    "data.toxicfish()\n",
    "\n",
    "# randomize the order of the data\n",
    "data.randomize_order()\n",
    "\n",
    "# split into train and test\n",
    "data.split_train_test(test_size=0.2, random=False)\n",
    "\n",
    "# scale features\n",
    "data.scale_min_max(-1,1)\n",
    "\n",
    "X_train, X_test, y_train, y_test = data.get_split_data()"
   ]
  },
  {
   "cell_type": "markdown",
   "metadata": {},
   "source": [
    "### Train model"
   ]
  },
  {
   "cell_type": "code",
   "execution_count": null,
   "metadata": {},
   "outputs": [],
   "source": [
    "# train regression model\n",
    "reg = GaussianProcessRegressor().fit(X_train, y_train)\n",
    "\n",
    "# obtain predictions on train and test set\n",
    "y_pred = reg.predict(X_test).reshape(-1,1)\n",
    "y_train_pred = reg.predict(X_train).reshape(-1,1)\n",
    "\n",
    "# show performance on train and test set\n",
    "print(f\"{sqrt(mean_squared_error(y_test, y_pred))} - RMSE test\")\n",
    "print(f\"{r2_score(y_test, y_pred)} - r2 test\")\n",
    "print()\n",
    "print(f\"{sqrt(mean_squared_error(y_train, y_train_pred))} - RMSE train\")\n",
    "print(f\"{r2_score(y_train, y_train_pred)} - r2 train\")"
   ]
  },
  {
   "cell_type": "markdown",
   "metadata": {},
   "source": [
    "### Sample point from test set\n",
    "\n",
    "Because we can only show one prediction in a VIZ plot at the time, we must sample an instance."
   ]
  },
  {
   "cell_type": "code",
   "execution_count": null,
   "metadata": {},
   "outputs": [],
   "source": [
    "# index for the selected point\n",
    "i=163\n",
    "\n",
    "X, y = sample_new_point(X_test, y_test, i=i)\n",
    "\n",
    "y_pred = reg.predict(X).reshape(-1,1)"
   ]
  },
  {
   "cell_type": "markdown",
   "metadata": {},
   "source": [
    "### Calculate the RETRO-score\n",
    "\n",
    "We calculate the RETRO-score for the new instance, and obtain the instance and its neighbors."
   ]
  },
  {
   "cell_type": "code",
   "execution_count": null,
   "metadata": {},
   "outputs": [],
   "source": [
    "# calculate RETRO score\n",
    "rs = RetroScore(k=5)\n",
    "\n",
    "retro_score, retro_score_unn, nbs_x, nbs_y = run_retro_score(rs, X_train, y_train, X, y_pred, y_train_pred)"
   ]
  },
  {
   "cell_type": "markdown",
   "metadata": {},
   "source": [
    "### Create .json file\n",
    "\n",
    "Here, we make the prediction and its neighbors ready to be saved as a json file."
   ]
  },
  {
   "cell_type": "code",
   "execution_count": null,
   "metadata": {},
   "outputs": [],
   "source": [
    "# reshape neighbors\n",
    "X_nbs = nbs_x.reshape(5,-1)\n",
    "y_nbs = nbs_y.reshape(-1)\n",
    "\n",
    "X_vars = list(data.vars_X)\n",
    "y_var = data.var_y\n",
    "\n",
    "# scale back data to original values (instead of normalized)\n",
    "X_nbs_unscaled, y_nbs_unscaled = data.unscale(X_nbs, y_nbs)\n",
    "X_unscaled, y_pred_unscaled = data.unscale(X, y_pred)\n",
    "\n",
    "# get range of data (used to set axis length)\n",
    "X_min, X_max = get_range(data.scalerX, X_unscaled)\n",
    "y_min, y_max = get_range(data.scalerY, y_pred_unscaled)\n",
    "\n",
    "# sort axes based on random sample from train data\n",
    "sample_X = X_train[np.random.randint(X_train.shape[0], size=70), :]\n",
    "sorted_axes = sort_axes(sample_X, list(data.vars_X))\n",
    "\n",
    "# place points in dictionary of appropriate format\n",
    "points = make_dict_df(X_unscaled, y_pred_unscaled,\n",
    "                                    X_nbs_unscaled, y_nbs_unscaled,\n",
    "                                    X_vars, y_var)\n",
    "\n",
    "# place ranges in dictionary of appropriate format\n",
    "ranges = make_dict_df(X_min.reshape(1,-1), y_min.reshape(1,1),\n",
    "                                    X_max.reshape(1,-1), y_max.reshape(1,1),\n",
    "                                    X_vars, y_var, concat_data=False)\n",
    "\n",
    "# all data in dictionary to pass to JavaScript\n",
    "data_set = {'points': points,\n",
    "            'ranges': ranges,\n",
    "            'retro_score': retro_score[0],\n",
    "            'target': y_var,\n",
    "            'sorted_axes': sorted_axes}\n",
    "\n",
    "with open('vizplot.json', 'w') as outfile:\n",
    "    json.dump(data_set, outfile)"
   ]
  },
  {
   "cell_type": "code",
   "execution_count": null,
   "metadata": {},
   "outputs": [],
   "source": []
  }
 ],
 "metadata": {
  "kernelspec": {
   "display_name": "Python 3",
   "language": "python",
   "name": "python3"
  },
  "language_info": {
   "codemirror_mode": {
    "name": "ipython",
    "version": 3
   },
   "file_extension": ".py",
   "mimetype": "text/x-python",
   "name": "python",
   "nbconvert_exporter": "python",
   "pygments_lexer": "ipython3",
   "version": "3.7.4"
  }
 },
 "nbformat": 4,
 "nbformat_minor": 2
}
